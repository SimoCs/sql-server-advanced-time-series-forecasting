{
    "metadata": {
        "kernelspec": {
            "name": "python3",
            "display_name": "Python 3",
            "language": "python"
        },
        "language_info": {
            "name": "python",
            "version": "3.8.10",
            "mimetype": "text/x-python",
            "codemirror_mode": {
                "name": "ipython",
                "version": 3
            },
            "pygments_lexer": "ipython3",
            "nbconvert_exporter": "python",
            "file_extension": ".py"
        }
    },
    "nbformat_minor": 2,
    "nbformat": 4,
    "cells": [
        {
            "cell_type": "markdown",
            "source": [
                "# **Demo: Construct a Forecasting Model and Evaluate Its Performance**"
            ],
            "metadata": {
                "azdata_cell_guid": "4c31b4a6-2549-45b0-9890-81b544aa7672"
            },
            "attachments": {}
        },
        {
            "cell_type": "markdown",
            "source": [
                "## **Step 1: Setup Python Packages**"
            ],
            "metadata": {
                "azdata_cell_guid": "618f8690-7672-4d20-945b-b6a61b7ec594"
            },
            "attachments": {}
        },
        {
            "cell_type": "code",
            "source": [
                "from sqlalchemy import create_engine\r\n",
                "import pandas as pd\r\n",
                "import numpy as np\r\n",
                "\r\n",
                "from sklearn.model_selection import TimeSeriesSplit, cross_val_score\r\n",
                "from sklearn.ensemble import RandomForestRegressor\r\n",
                "from sklearn.metrics import mean_squared_error, r2_score\r\n",
                "from sklearn.preprocessing import OneHotEncoder, StandardScaler\r\n",
                "from sklearn.compose import ColumnTransformer\r\n",
                "from sklearn.pipeline import Pipeline\r\n",
                "\r\n",
                "import matplotlib.pyplot as plt\r\n",
                "import seaborn as sns\r\n",
                "\r\n",
                "import warnings\r\n",
                "warnings.filterwarnings(\"ignore\")"
            ],
            "metadata": {
                "azdata_cell_guid": "2091365a-8313-4658-80b5-6639b23296fb",
                "language": "python"
            },
            "outputs": [],
            "execution_count": 1
        },
        {
            "cell_type": "markdown",
            "source": [
                "## **Step 2: Extract Data from SQL Server**"
            ],
            "metadata": {
                "language": "python",
                "azdata_cell_guid": "fedf3417-a5b2-4c40-9725-24b274a47e59"
            },
            "attachments": {}
        },
        {
            "cell_type": "code",
            "source": [
                "# Connection string components\r\n",
                "server = 'DESKTOP'                  # Server name\r\n",
                "database = 'Transactions'           # Database name\r\n",
                "driver= 'SQL Server'                   \r\n",
                "\r\n",
                "# SQLAlchemy connection string\r\n",
                "connection_string = f'mssql+pyodbc://{server}/{database}?driver={driver}&trusted_connection=yes'\r\n",
                "\r\n",
                "# Create the engine\r\n",
                "engine = create_engine(connection_string)\r\n",
                "\r\n",
                "query = '''\r\n",
                "SELECT transaction_id, customer_id, \r\n",
                "       CAST(date AS DATE) as date, \r\n",
                "       CAST(time AS TIME) as time, \r\n",
                "       product_name, category, quantity, price\r\n",
                "FROM dbo.Transactions\r\n",
                "'''\r\n",
                "\r\n",
                "# Use the engine to connect and execute the query\r\n",
                "df = pd.read_sql_query(query, engine)\r\n",
                "\r\n",
                "# Convert date and time into a single datetime column\r\n",
                "df['datetime'] = pd.to_datetime(df['date'] + ' ' + df['time'])\r\n",
                "\r\n",
                "# Set datetime as the index\r\n",
                "df.set_index('datetime', inplace=True)\r\n",
                "df.sort_index(inplace=True)\r\n",
                "\r\n",
                "# Prepare features and target variable\r\n",
                "X = df.drop(['transaction_id', 'price', 'date', 'time'], axis=1)\r\n",
                "y = df['price']"
            ],
            "metadata": {
                "azdata_cell_guid": "64204386-d41f-4601-b6a8-634d414f99c3",
                "language": "python",
                "tags": []
            },
            "outputs": [],
            "execution_count": 2
        },
        {
            "cell_type": "markdown",
            "source": [
                "## **Step 3: Feature Engineering**"
            ],
            "metadata": {
                "azdata_cell_guid": "22fd6847-841c-48e6-8828-6d62bb1c785d"
            },
            "attachments": {}
        },
        {
            "cell_type": "code",
            "source": [
                "# Encoding categorical variables and scaling numerical variables\r\n",
                "categorical_features = ['customer_id', 'product_name', 'category']\r\n",
                "numerical_features = ['quantity']  # Adjust based on your data's features\r\n",
                "\r\n",
                "preprocessor = ColumnTransformer(\r\n",
                "    transformers=[\r\n",
                "        ('num', StandardScaler(), numerical_features),\r\n",
                "        ('cat', OneHotEncoder(handle_unknown='ignore'), categorical_features),\r\n",
                "    ])"
            ],
            "metadata": {
                "language": "python",
                "azdata_cell_guid": "2cbaca2f-3239-4c79-9449-c87531bdac96",
                "tags": []
            },
            "outputs": [],
            "execution_count": 3
        },
        {
            "cell_type": "markdown",
            "source": [
                "## **Step 4:** **Initialize Model**"
            ],
            "metadata": {
                "language": "python",
                "azdata_cell_guid": "0e7ded84-d72d-4cff-8b82-159d71fe3ec2"
            },
            "attachments": {}
        },
        {
            "cell_type": "code",
            "source": [
                "model = RandomForestRegressor(n_estimators=100, random_state=44)"
            ],
            "metadata": {
                "language": "python",
                "azdata_cell_guid": "3b4f8dc2-f8a9-4c26-9b68-2ee26584cbca"
            },
            "outputs": [],
            "execution_count": 4
        },
        {
            "cell_type": "markdown",
            "source": [
                "## **Step 5:** **Pipeline Creation**"
            ],
            "metadata": {
                "language": "python",
                "azdata_cell_guid": "3f325ac8-eb19-4be1-891c-15563dab629f"
            },
            "attachments": {}
        },
        {
            "cell_type": "code",
            "source": [
                "pipeline = Pipeline([\r\n",
                "    ('preprocessor', preprocessor),\r\n",
                "    ('regressor', model)])"
            ],
            "metadata": {
                "language": "python",
                "azdata_cell_guid": "95b08fe5-28f2-40a1-8eb7-3d5feec8f3e7",
                "tags": []
            },
            "outputs": [],
            "execution_count": 5
        },
        {
            "cell_type": "markdown",
            "source": [
                "## **Step 6:** **Cross-validation**"
            ],
            "metadata": {
                "language": "python",
                "azdata_cell_guid": "7d635fdf-64c5-40ef-bd1e-e3f59497980b"
            },
            "attachments": {}
        },
        {
            "cell_type": "code",
            "source": [
                "# TimeSeriesSplit for cross-validation\r\n",
                "tscv = TimeSeriesSplit(n_splits=5)\r\n",
                "\r\n",
                "# Cross-validation across the time series data\r\n",
                "cv_scores = cross_val_score(pipeline, X, y, cv=tscv, scoring='neg_mean_squared_error')\r\n",
                "print(\"Cross-validated scores:\", np.sqrt(-cv_scores))\r\n",
                "print(\"Mean RMSE:\", np.sqrt(-cv_scores).mean())"
            ],
            "metadata": {
                "language": "python",
                "azdata_cell_guid": "1d4a7896-9d80-4144-aa77-1cf44612b6ba"
            },
            "outputs": [
                {
                    "output_type": "stream",
                    "name": "stdout",
                    "text": "Cross-validated scores: [33.77920718  5.21813307  0.12242345  1.91868774  0.6325    ]\nMean RMSE: 8.334190287847516\n"
                }
            ],
            "execution_count": 6
        },
        {
            "cell_type": "markdown",
            "source": [
                "## **Step 7:** **Splitting Data**"
            ],
            "metadata": {
                "language": "python",
                "azdata_cell_guid": "00c0840b-b274-4da9-9b54-767ba5b39ce7"
            },
            "attachments": {}
        },
        {
            "cell_type": "code",
            "source": [
                "train_size = int(len(df) * 0.8)\r\n",
                "X_train, X_test = X.iloc[:train_size], X.iloc[train_size:]\r\n",
                "y_train, y_test = y.iloc[:train_size], y.iloc[train_size:]"
            ],
            "metadata": {
                "language": "python",
                "azdata_cell_guid": "520bc4ba-8a88-421d-b691-8c026ab60838",
                "tags": []
            },
            "outputs": [],
            "execution_count": 7
        },
        {
            "cell_type": "markdown",
            "source": [
                "## **Step 8:** **Train Model**"
            ],
            "metadata": {
                "language": "python",
                "azdata_cell_guid": "8c8eeabb-0cfa-4e38-873d-4a7f956646c2"
            },
            "attachments": {}
        },
        {
            "cell_type": "code",
            "source": [
                "# Fit the model on the training set\r\n",
                "pipeline.fit(X_train, y_train)\r\n",
                "\r\n",
                "# Predict on the testing set\r\n",
                "predictions = pipeline.predict(X_test)"
            ],
            "metadata": {
                "language": "python",
                "azdata_cell_guid": "ffad19f3-a196-41cf-aed4-902d300e504b"
            },
            "outputs": [],
            "execution_count": 8
        },
        {
            "cell_type": "markdown",
            "source": [
                "## **Step 9:** **Evaluation**"
            ],
            "metadata": {
                "language": "python",
                "azdata_cell_guid": "c2d8569d-2765-4396-aef5-54b0f2575415"
            },
            "attachments": {}
        },
        {
            "cell_type": "code",
            "source": [
                "mse = mean_squared_error(y_test, predictions)\r\n",
                "r2 = r2_score(y_test, predictions)\r\n",
                "\r\n",
                "print(f\"Test MSE: {mse}\")\r\n",
                "print(f\"Test R^2: {r2}\")"
            ],
            "metadata": {
                "azdata_cell_guid": "5bf61fcc-c83f-4d24-92ad-4bb7a8ef684c",
                "language": "python"
            },
            "outputs": [
                {
                    "output_type": "stream",
                    "name": "stdout",
                    "text": "Test MSE: 0.25537999999999994\nTest R^2: 0.9999954778740594\n"
                }
            ],
            "execution_count": 9
        },
        {
            "cell_type": "markdown",
            "source": [
                "## **Step 10:** **Plotting Actual vs Predicted Prices**"
            ],
            "metadata": {
                "azdata_cell_guid": "3043ef19-85d4-459e-ab38-ccef74b5b92a"
            },
            "attachments": {}
        },
        {
            "cell_type": "code",
            "source": [
                "# Plotting actual vs predicted prices\r\n",
                "plt.figure(figsize=(12, 6))\r\n",
                "plt.plot(y_test.index, y_test, label='Actual Prices', color='blue', marker='o', linestyle='-', linewidth=1)\r\n",
                "plt.plot(y_test.index, predictions, label='Predicted Prices', color='red', marker='x', linestyle='--', linewidth=1)\r\n",
                "plt.title('Actual vs Predicted Prices')\r\n",
                "plt.xlabel('Date')\r\n",
                "plt.ylabel('Price')\r\n",
                "plt.legend()\r\n",
                "plt.tight_layout()\r\n",
                "plt.show()"
            ],
            "metadata": {
                "azdata_cell_guid": "cabc0cc7-b095-4f65-b822-ca6f6c3f64cb",
                "language": "python"
            },
            "outputs": [
                {
                    "output_type": "display_data",
                    "data": {
                        "text/plain": "<Figure size 864x432 with 1 Axes>",
                        "image/png": "[encoded data removed]"
                    },
                    "metadata": {
                        "needs_background": "light"
                    }
                }
            ],
            "execution_count": 10
        }
    ]
}
