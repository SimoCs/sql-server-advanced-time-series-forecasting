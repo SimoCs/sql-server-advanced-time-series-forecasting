{
    "metadata": {
        "kernelspec": {
            "name": "python3",
            "display_name": "Python 3",
            "language": "python"
        },
        "language_info": {
            "name": "python",
            "version": "3.8.10",
            "mimetype": "text/x-python",
            "codemirror_mode": {
                "name": "ipython",
                "version": 3
            },
            "pygments_lexer": "ipython3",
            "nbconvert_exporter": "python",
            "file_extension": ".py"
        }
    },
    "nbformat_minor": 2,
    "nbformat": 4,
    "cells": [
        {
            "cell_type": "markdown",
            "source": [
                "# <span style=\"font-size: 28px;\"><b>Demo: Deploying and Evaluating an Advanced Model</b></span>"
            ],
            "metadata": {
                "azdata_cell_guid": "4c31b4a6-2549-45b0-9890-81b544aa7672"
            },
            "attachments": {}
        },
        {
            "cell_type": "markdown",
            "source": [
                "## **Step 1: Load the Dataset**"
            ],
            "metadata": {
                "azdata_cell_guid": "618f8690-7672-4d20-945b-b6a61b7ec594"
            },
            "attachments": {}
        },
        {
            "cell_type": "code",
            "source": [
                "from sqlalchemy import create_engine\r\n",
                "\r\n",
                "import pandas as pd\r\n",
                "import numpy as np\r\n",
                "\r\n",
                "from sklearn.model_selection import train_test_split\r\n",
                "from sklearn.linear_model import LinearRegression\r\n",
                "from sklearn.metrics import mean_absolute_error, mean_squared_error, r2_score\r\n",
                "from sklearn.preprocessing import OneHotEncoder\r\n",
                "from sklearn.compose import ColumnTransformer\r\n",
                "from sklearn.pipeline import Pipeline\r\n",
                "\r\n",
                "from joblib import dump, load\r\n",
                "\r\n",
                "import warnings\r\n",
                "warnings.filterwarnings(\"ignore\")\r\n",
                "\r\n",
                "# Connection string components\r\n",
                "server = 'DESKTOP'                     # Server name\r\n",
                "database = 'Transactions'              # Database name\r\n",
                "driver= 'SQL Server'                   \r\n",
                "\r\n",
                "# SQLAlchemy connection string\r\n",
                "connection_string = f'mssql+pyodbc://{server}/{database}?driver={driver}&trusted_connection=yes'\r\n",
                "\r\n",
                "# Create the engine\r\n",
                "engine = create_engine(connection_string)\r\n",
                "\r\n",
                "query = '''\r\n",
                "SELECT transaction_id, customer_id, \r\n",
                "       CAST(date AS DATE) as date, \r\n",
                "       CAST(time AS TIME) as time, \r\n",
                "       product_name, category, quantity, price\r\n",
                "FROM dbo.Transactions\r\n",
                "'''\r\n",
                "\r\n",
                "# Use the engine to connect and execute the query\r\n",
                "df = pd.read_sql_query(query, engine)"
            ],
            "metadata": {
                "azdata_cell_guid": "2091365a-8313-4658-80b5-6639b23296fb",
                "language": "python",
                "tags": []
            },
            "outputs": [],
            "execution_count": 13
        },
        {
            "cell_type": "markdown",
            "source": [
                "## **Step 2:** **Feature Preprocessing**"
            ],
            "metadata": {
                "language": "python",
                "azdata_cell_guid": "25cea9a5-f385-456f-916e-a5efe4b6297f"
            },
            "attachments": {}
        },
        {
            "cell_type": "code",
            "source": [
                "# Prepare the datetime and other features\r\n",
                "df['datetime'] = pd.to_datetime(df['date'] + ' ' + df['time'])\r\n",
                "df['day_of_week'] = df['datetime'].dt.dayofweek\r\n",
                "df['hour'] = df['datetime'].dt.hour\r\n",
                "\r\n",
                "features = ['customer_id', 'product_name', 'category', 'quantity', 'day_of_week', 'hour']\r\n",
                "X = df[features]\r\n",
                "y = df['price']\r\n",
                "\r\n",
                "# Encoding categorical variables\r\n",
                "categorical_features = ['customer_id', 'product_name', 'category', 'day_of_week', 'hour']\r\n",
                "preprocessor = ColumnTransformer(transformers=[\r\n",
                "    ('cat', OneHotEncoder(handle_unknown='ignore'), categorical_features),\r\n",
                "])\r\n",
                "\r\n",
                "# Splitting dataset\r\n",
                "X_train, X_test, y_train, y_test = train_test_split(X, y, test_size=0.2, random_state=44)"
            ],
            "metadata": {
                "language": "python",
                "azdata_cell_guid": "d2e42303-a715-4ab8-bfb7-77376b49cfa6"
            },
            "outputs": [],
            "execution_count": 15
        },
        {
            "cell_type": "markdown",
            "source": [
                "## **Step 3:** **Pipeline Creation**"
            ],
            "metadata": {
                "language": "python",
                "azdata_cell_guid": "3f325ac8-eb19-4be1-891c-15563dab629f"
            },
            "attachments": {}
        },
        {
            "cell_type": "code",
            "source": [
                "# Define the model pipeline\r\n",
                "pipeline = Pipeline(steps=[\r\n",
                "    ('preprocessor', preprocessor),\r\n",
                "    ('regressor', LinearRegression())\r\n",
                "])\r\n",
                "\r\n",
                "# Train the model\r\n",
                "pipeline.fit(X_train, y_train)"
            ],
            "metadata": {
                "language": "python",
                "azdata_cell_guid": "95b08fe5-28f2-40a1-8eb7-3d5feec8f3e7",
                "tags": []
            },
            "outputs": [
                {
                    "output_type": "execute_result",
                    "execution_count": 16,
                    "data": {
                        "text/plain": "Pipeline(steps=[('preprocessor',\n                 ColumnTransformer(transformers=[('cat',\n                                                  OneHotEncoder(handle_unknown='ignore'),\n                                                  ['customer_id',\n                                                   'product_name', 'category',\n                                                   'day_of_week', 'hour'])])),\n                ('regressor', LinearRegression())])",
                        "text/html": "<style>#sk-container-id-2 {color: black;}#sk-container-id-2 pre{padding: 0;}#sk-container-id-2 div.sk-toggleable {background-color: white;}#sk-container-id-2 label.sk-toggleable__label {cursor: pointer;display: block;width: 100%;margin-bottom: 0;padding: 0.3em;box-sizing: border-box;text-align: center;}#sk-container-id-2 label.sk-toggleable__label-arrow:before {content: \"▸\";float: left;margin-right: 0.25em;color: #696969;}#sk-container-id-2 label.sk-toggleable__label-arrow:hover:before {color: black;}#sk-container-id-2 div.sk-estimator:hover label.sk-toggleable__label-arrow:before {color: black;}#sk-container-id-2 div.sk-toggleable__content {max-height: 0;max-width: 0;overflow: hidden;text-align: left;background-color: #f0f8ff;}#sk-container-id-2 div.sk-toggleable__content pre {margin: 0.2em;color: black;border-radius: 0.25em;background-color: #f0f8ff;}#sk-container-id-2 input.sk-toggleable__control:checked~div.sk-toggleable__content {max-height: 200px;max-width: 100%;overflow: auto;}#sk-container-id-2 input.sk-toggleable__control:checked~label.sk-toggleable__label-arrow:before {content: \"▾\";}#sk-container-id-2 div.sk-estimator input.sk-toggleable__control:checked~label.sk-toggleable__label {background-color: #d4ebff;}#sk-container-id-2 div.sk-label input.sk-toggleable__control:checked~label.sk-toggleable__label {background-color: #d4ebff;}#sk-container-id-2 input.sk-hidden--visually {border: 0;clip: rect(1px 1px 1px 1px);clip: rect(1px, 1px, 1px, 1px);height: 1px;margin: -1px;overflow: hidden;padding: 0;position: absolute;width: 1px;}#sk-container-id-2 div.sk-estimator {font-family: monospace;background-color: #f0f8ff;border: 1px dotted black;border-radius: 0.25em;box-sizing: border-box;margin-bottom: 0.5em;}#sk-container-id-2 div.sk-estimator:hover {background-color: #d4ebff;}#sk-container-id-2 div.sk-parallel-item::after {content: \"\";width: 100%;border-bottom: 1px solid gray;flex-grow: 1;}#sk-container-id-2 div.sk-label:hover label.sk-toggleable__label {background-color: #d4ebff;}#sk-container-id-2 div.sk-serial::before {content: \"\";position: absolute;border-left: 1px solid gray;box-sizing: border-box;top: 0;bottom: 0;left: 50%;z-index: 0;}#sk-container-id-2 div.sk-serial {display: flex;flex-direction: column;align-items: center;background-color: white;padding-right: 0.2em;padding-left: 0.2em;position: relative;}#sk-container-id-2 div.sk-item {position: relative;z-index: 1;}#sk-container-id-2 div.sk-parallel {display: flex;align-items: stretch;justify-content: center;background-color: white;position: relative;}#sk-container-id-2 div.sk-item::before, #sk-container-id-2 div.sk-parallel-item::before {content: \"\";position: absolute;border-left: 1px solid gray;box-sizing: border-box;top: 0;bottom: 0;left: 50%;z-index: -1;}#sk-container-id-2 div.sk-parallel-item {display: flex;flex-direction: column;z-index: 1;position: relative;background-color: white;}#sk-container-id-2 div.sk-parallel-item:first-child::after {align-self: flex-end;width: 50%;}#sk-container-id-2 div.sk-parallel-item:last-child::after {align-self: flex-start;width: 50%;}#sk-container-id-2 div.sk-parallel-item:only-child::after {width: 0;}#sk-container-id-2 div.sk-dashed-wrapped {border: 1px dashed gray;margin: 0 0.4em 0.5em 0.4em;box-sizing: border-box;padding-bottom: 0.4em;background-color: white;}#sk-container-id-2 div.sk-label label {font-family: monospace;font-weight: bold;display: inline-block;line-height: 1.2em;}#sk-container-id-2 div.sk-label-container {text-align: center;}#sk-container-id-2 div.sk-container {/* jupyter's `normalize.less` sets `[hidden] { display: none; }` but bootstrap.min.css set `[hidden] { display: none !important; }` so we also need the `!important` here to be able to override the default hidden behavior on the sphinx rendered scikit-learn.org. See: https://github.com/scikit-learn/scikit-learn/issues/21755 */display: inline-block !important;position: relative;}#sk-container-id-2 div.sk-text-repr-fallback {display: none;}</style><div id=\"sk-container-id-2\" class=\"sk-top-container\"><div class=\"sk-text-repr-fallback\"><pre>Pipeline(steps=[(&#x27;preprocessor&#x27;,\n                 ColumnTransformer(transformers=[(&#x27;cat&#x27;,\n                                                  OneHotEncoder(handle_unknown=&#x27;ignore&#x27;),\n                                                  [&#x27;customer_id&#x27;,\n                                                   &#x27;product_name&#x27;, &#x27;category&#x27;,\n                                                   &#x27;day_of_week&#x27;, &#x27;hour&#x27;])])),\n                (&#x27;regressor&#x27;, LinearRegression())])</pre><b>In a Jupyter environment, please rerun this cell to show the HTML representation or trust the notebook. <br />On GitHub, the HTML representation is unable to render, please try loading this page with nbviewer.org.</b></div><div class=\"sk-container\" hidden><div class=\"sk-item sk-dashed-wrapped\"><div class=\"sk-label-container\"><div class=\"sk-label sk-toggleable\"><input class=\"sk-toggleable__control sk-hidden--visually\" id=\"sk-estimator-id-6\" type=\"checkbox\" ><label for=\"sk-estimator-id-6\" class=\"sk-toggleable__label sk-toggleable__label-arrow\">Pipeline</label><div class=\"sk-toggleable__content\"><pre>Pipeline(steps=[(&#x27;preprocessor&#x27;,\n                 ColumnTransformer(transformers=[(&#x27;cat&#x27;,\n                                                  OneHotEncoder(handle_unknown=&#x27;ignore&#x27;),\n                                                  [&#x27;customer_id&#x27;,\n                                                   &#x27;product_name&#x27;, &#x27;category&#x27;,\n                                                   &#x27;day_of_week&#x27;, &#x27;hour&#x27;])])),\n                (&#x27;regressor&#x27;, LinearRegression())])</pre></div></div></div><div class=\"sk-serial\"><div class=\"sk-item sk-dashed-wrapped\"><div class=\"sk-label-container\"><div class=\"sk-label sk-toggleable\"><input class=\"sk-toggleable__control sk-hidden--visually\" id=\"sk-estimator-id-7\" type=\"checkbox\" ><label for=\"sk-estimator-id-7\" class=\"sk-toggleable__label sk-toggleable__label-arrow\">preprocessor: ColumnTransformer</label><div class=\"sk-toggleable__content\"><pre>ColumnTransformer(transformers=[(&#x27;cat&#x27;, OneHotEncoder(handle_unknown=&#x27;ignore&#x27;),\n                                 [&#x27;customer_id&#x27;, &#x27;product_name&#x27;, &#x27;category&#x27;,\n                                  &#x27;day_of_week&#x27;, &#x27;hour&#x27;])])</pre></div></div></div><div class=\"sk-parallel\"><div class=\"sk-parallel-item\"><div class=\"sk-item\"><div class=\"sk-label-container\"><div class=\"sk-label sk-toggleable\"><input class=\"sk-toggleable__control sk-hidden--visually\" id=\"sk-estimator-id-8\" type=\"checkbox\" ><label for=\"sk-estimator-id-8\" class=\"sk-toggleable__label sk-toggleable__label-arrow\">cat</label><div class=\"sk-toggleable__content\"><pre>[&#x27;customer_id&#x27;, &#x27;product_name&#x27;, &#x27;category&#x27;, &#x27;day_of_week&#x27;, &#x27;hour&#x27;]</pre></div></div></div><div class=\"sk-serial\"><div class=\"sk-item\"><div class=\"sk-estimator sk-toggleable\"><input class=\"sk-toggleable__control sk-hidden--visually\" id=\"sk-estimator-id-9\" type=\"checkbox\" ><label for=\"sk-estimator-id-9\" class=\"sk-toggleable__label sk-toggleable__label-arrow\">OneHotEncoder</label><div class=\"sk-toggleable__content\"><pre>OneHotEncoder(handle_unknown=&#x27;ignore&#x27;)</pre></div></div></div></div></div></div></div></div><div class=\"sk-item\"><div class=\"sk-estimator sk-toggleable\"><input class=\"sk-toggleable__control sk-hidden--visually\" id=\"sk-estimator-id-10\" type=\"checkbox\" ><label for=\"sk-estimator-id-10\" class=\"sk-toggleable__label sk-toggleable__label-arrow\">LinearRegression</label><div class=\"sk-toggleable__content\"><pre>LinearRegression()</pre></div></div></div></div></div></div></div>"
                    },
                    "metadata": {}
                }
            ],
            "execution_count": 16
        },
        {
            "cell_type": "markdown",
            "source": [
                "## **Step 4:** **Serialize Model**"
            ],
            "metadata": {
                "language": "python",
                "azdata_cell_guid": "7d635fdf-64c5-40ef-bd1e-e3f59497980b"
            },
            "attachments": {}
        },
        {
            "cell_type": "code",
            "source": [
                "model_filename = 'linear_regression_model.joblib'\r\n",
                "dump(pipeline, model_filename)\r\n",
                "print(f\"Model saved to {model_filename}\")"
            ],
            "metadata": {
                "language": "python",
                "azdata_cell_guid": "1d4a7896-9d80-4144-aa77-1cf44612b6ba"
            },
            "outputs": [
                {
                    "output_type": "stream",
                    "name": "stdout",
                    "text": "Model saved to linear_regression_model.joblib\n"
                }
            ],
            "execution_count": 17
        },
        {
            "cell_type": "markdown",
            "source": [
                "## **Step 5:** **Load and Test the Serialized Model**"
            ],
            "metadata": {
                "language": "python",
                "azdata_cell_guid": "8c8eeabb-0cfa-4e38-873d-4a7f956646c2"
            },
            "attachments": {}
        },
        {
            "cell_type": "code",
            "source": [
                "loaded_model = load(model_filename)\r\n",
                "predictions = loaded_model.predict(X_test)"
            ],
            "metadata": {
                "language": "python",
                "azdata_cell_guid": "5b306126-ac2f-4a79-b06f-5980f7ad2c8a"
            },
            "outputs": [],
            "execution_count": 18
        },
        {
            "cell_type": "markdown",
            "source": [
                "## **Step 6:** **Evaluation**"
            ],
            "metadata": {
                "language": "python",
                "azdata_cell_guid": "c2d8569d-2765-4396-aef5-54b0f2575415"
            },
            "attachments": {}
        },
        {
            "cell_type": "code",
            "source": [
                "mae = mean_absolute_error(y_test, predictions)\r\n",
                "mse = mean_squared_error(y_test, predictions)\r\n",
                "r2 = r2_score(y_test, predictions)\r\n",
                "\r\n",
                "print(f\"Mean Absolute Error: {mae}\")\r\n",
                "print(f\"Mean Squared Error: {mse}\")\r\n",
                "print(f\"R^2 Score: {r2}\")"
            ],
            "metadata": {
                "azdata_cell_guid": "5bf61fcc-c83f-4d24-92ad-4bb7a8ef684c",
                "language": "python"
            },
            "outputs": [
                {
                    "output_type": "stream",
                    "name": "stdout",
                    "text": "Mean Absolute Error: 5.523001209975755\nMean Squared Error: 609.7621531590165\nR^2 Score: 0.9914685656528119\n"
                }
            ],
            "execution_count": 19
        }
    ]
}