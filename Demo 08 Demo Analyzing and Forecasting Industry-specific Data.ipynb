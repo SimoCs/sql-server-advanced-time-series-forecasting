{
    "metadata": {
        "kernelspec": {
            "name": "python3",
            "display_name": "Python 3",
            "language": "python"
        },
        "language_info": {
            "name": "python",
            "version": "3.8.10",
            "mimetype": "text/x-python",
            "codemirror_mode": {
                "name": "ipython",
                "version": 3
            },
            "pygments_lexer": "ipython3",
            "nbconvert_exporter": "python",
            "file_extension": ".py"
        }
    },
    "nbformat_minor": 2,
    "nbformat": 4,
    "cells": [
        {
            "cell_type": "markdown",
            "source": [
                "# <span style=\"font-size: 28px;\"><b>Demo: Analyzing and Forecasting Industry-specific Data</b></span>"
            ],
            "metadata": {
                "azdata_cell_guid": "4c31b4a6-2549-45b0-9890-81b544aa7672"
            },
            "attachments": {}
        },
        {
            "cell_type": "markdown",
            "source": [
                "## **Step 1: Load the Dataset**"
            ],
            "metadata": {
                "azdata_cell_guid": "618f8690-7672-4d20-945b-b6a61b7ec594"
            },
            "attachments": {}
        },
        {
            "cell_type": "code",
            "source": [
                "from sqlalchemy import create_engine\r\n",
                "import pandas as pd\r\n",
                "import numpy as np\r\n",
                "from statsmodels.tsa.statespace.sarimax import SARIMAX\r\n",
                "import matplotlib.pyplot as plt\r\n",
                "from sklearn.linear_model import Ridge\r\n",
                "from sklearn.ensemble import RandomForestRegressor\r\n",
                "from sklearn.preprocessing import OneHotEncoder, PolynomialFeatures\r\n",
                "from sklearn.compose import ColumnTransformer\r\n",
                "from sklearn.model_selection import GridSearchCV\r\n",
                "from flask import Flask, request, jsonify\r\n",
                "from joblib import load\r\n",
                "from threading import Thread\r\n",
                "from sklearn.model_selection import train_test_split\r\n",
                "from sklearn.linear_model import LinearRegression\r\n",
                "from sklearn.metrics import mean_absolute_error, mean_squared_error, r2_score\r\n",
                "from sklearn.pipeline import Pipeline\r\n",
                "from joblib import dump\r\n",
                "import warnings\r\n",
                "warnings.filterwarnings(\"ignore\")\r\n",
                "\r\n",
                "# Connection string components\r\n",
                "server = 'DESKTOP'                     # Server name\r\n",
                "database = 'Transactions'              # Database name\r\n",
                "driver= 'SQL Server'                   \r\n",
                "\r\n",
                "# SQLAlchemy connection string\r\n",
                "connection_string = f'mssql+pyodbc://{server}/{database}?driver={driver}&trusted_connection=yes'\r\n",
                "\r\n",
                "# Create the engine\r\n",
                "engine = create_engine(connection_string)\r\n",
                "\r\n",
                "query = '''\r\n",
                "SELECT transaction_id, customer_id, \r\n",
                "       CAST(date AS DATE) as date, \r\n",
                "       CAST(time AS TIME) as time, \r\n",
                "       product_name, category, quantity, price\r\n",
                "FROM dbo.Transactions\r\n",
                "'''\r\n",
                "\r\n",
                "# Use the engine to connect and execute the query\r\n",
                "df = pd.read_sql_query(query, engine)"
            ],
            "metadata": {
                "azdata_cell_guid": "2091365a-8313-4658-80b5-6639b23296fb",
                "language": "python"
            },
            "outputs": [],
            "execution_count": 1
        },
        {
            "cell_type": "markdown",
            "source": [
                "## **Step 2: Feature Engineering**"
            ],
            "metadata": {
                "azdata_cell_guid": "97b6eaa9-8322-4258-9aca-d7e0e5e69936"
            },
            "attachments": {}
        },
        {
            "cell_type": "code",
            "source": [
                "# Convert date and time into datetime, extract day of the week and hour as features\r\n",
                "df['datetime'] = pd.to_datetime(df['date'] + ' ' + df['time'])\r\n",
                "df['day_of_week'] = df['datetime'].dt.dayofweek\r\n",
                "df['hour'] = df['datetime'].dt.hour\r\n",
                "\r\n",
                "# Target variable and features selection\r\n",
                "X = df[['customer_id', 'product_name', 'category', 'quantity', 'day_of_week', 'hour']]\r\n",
                "y = df['price']\r\n",
                "\r\n",
                "# Encoding categorical features\r\n",
                "categorical_features = ['customer_id', 'product_name', 'category', 'day_of_week', 'hour']\r\n",
                "preprocessor = ColumnTransformer(transformers=[('cat', OneHotEncoder(handle_unknown='ignore'), categorical_features)])"
            ],
            "metadata": {
                "azdata_cell_guid": "3e77393b-249a-46cb-a8ed-c0f28757f9b2",
                "language": "python"
            },
            "outputs": [],
            "execution_count": 2
        },
        {
            "cell_type": "markdown",
            "source": [
                "## **Step 3:** **Train Model**"
            ],
            "metadata": {
                "language": "python",
                "azdata_cell_guid": "0e7ded84-d72d-4cff-8b82-159d71fe3ec2"
            },
            "attachments": {}
        },
        {
            "cell_type": "code",
            "source": [
                "# Define the model pipeline\r\n",
                "pipeline = Pipeline(steps=[('preprocessor', preprocessor),\r\n",
                "                           ('regressor', LinearRegression())])\r\n",
                "\r\n",
                "# Split the data into training and test sets\r\n",
                "X_train, X_test, y_train, y_test = train_test_split(X, y, test_size=0.2, random_state=42)\r\n",
                "\r\n",
                "# Train the model\r\n",
                "pipeline.fit(X_train, y_train)\r\n",
                "\r\n",
                "# Model evaluation\r\n",
                "predictions = pipeline.predict(X_test)\r\n",
                "print(\"Mean Absolute Error:\", mean_absolute_error(y_test, predictions))\r\n",
                "print(\"Mean Squared Error:\", mean_squared_error(y_test, predictions))\r\n",
                "print(\"R^2 Score:\", r2_score(y_test, predictions))"
            ],
            "metadata": {
                "language": "python",
                "azdata_cell_guid": "a7579365-eef3-4998-a5f1-0d944bb1e2be"
            },
            "outputs": [
                {
                    "name": "stdout",
                    "text": "Mean Absolute Error: 5.523001209975755\nMean Squared Error: 609.7621531590165\nR^2 Score: 0.9914685656528119\n",
                    "output_type": "stream"
                }
            ],
            "execution_count": 3
        },
        {
            "cell_type": "markdown",
            "source": [
                "## **Step 4:** **Save Model**"
            ],
            "metadata": {
                "language": "python",
                "azdata_cell_guid": "3f325ac8-eb19-4be1-891c-15563dab629f"
            },
            "attachments": {}
        },
        {
            "cell_type": "code",
            "source": [
                "# Save the trained model\r\n",
                "dump(pipeline, 'model.joblib')"
            ],
            "metadata": {
                "language": "python",
                "azdata_cell_guid": "e1ba82e0-d97f-4d54-a4ce-2e2ff66b1530"
            },
            "outputs": [
                {
                    "data": {
                        "text/plain": "['model.joblib']"
                    },
                    "metadata": {},
                    "execution_count": 4,
                    "output_type": "execute_result"
                }
            ],
            "execution_count": 4
        },
        {
            "cell_type": "markdown",
            "source": [
                "## **Step 5:** **Application Setup**"
            ],
            "metadata": {
                "language": "python",
                "azdata_cell_guid": "7d635fdf-64c5-40ef-bd1e-e3f59497980b"
            },
            "attachments": {}
        },
        {
            "cell_type": "code",
            "source": [
                "app = Flask(__name__)\r\n",
                "model = load('model.joblib')\r\n",
                "\r\n",
                "@app.route('/predict', methods=['GET'])\r\n",
                "def predict():\r\n",
                "   # Extract query parameters for all features\r\n",
                "    customer_id = request.args.get('customer_id', default='default_customer_id', type=str)\r\n",
                "    product_name = request.args.get('product_name', default='default_product_name', type=str)\r\n",
                "    category = request.args.get('category', default='default_category', type=str)\r\n",
                "    quantity = request.args.get('quantity', default=1, type=int)\r\n",
                "    day_of_week = request.args.get('day_of_week', default=1, type=int)\r\n",
                "    hour = request.args.get('hour', default=12, type=int)\r\n",
                "\r\n",
                "    # Create a DataFrame for the input features\r\n",
                "    input_data = pd.DataFrame([{\r\n",
                "        'customer_id': customer_id,\r\n",
                "        'product_name': product_name,\r\n",
                "        'category': category,\r\n",
                "        'quantity': quantity,\r\n",
                "        'day_of_week': day_of_week,\r\n",
                "        'hour': hour\r\n",
                "    }])\r\n",
                "\r\n",
                "    # Predict using the model\r\n",
                "    prediction = model.predict(input_data)\r\n",
                "\r\n",
                "    # Return the prediction as a JSON response\r\n",
                "    return jsonify({'prediction': prediction.tolist()})"
            ],
            "metadata": {
                "language": "python",
                "azdata_cell_guid": "59fefafd-9f44-40f5-a103-89f130022764"
            },
            "outputs": [],
            "execution_count": 5
        },
        {
            "cell_type": "markdown",
            "source": [
                "## **Step 6:** **Run App**"
            ],
            "metadata": {
                "language": "python",
                "azdata_cell_guid": "8c8eeabb-0cfa-4e38-873d-4a7f956646c2"
            },
            "attachments": {}
        },
        {
            "cell_type": "code",
            "source": [
                "def run_app():\r\n",
                "    app.run(port=5000, debug=True, use_reloader=False)\r\n",
                "\r\n",
                "# Running the Flask app in a separate thread\r\n",
                "thread = Thread(target=run_app)\r\n",
                "thread.start()"
            ],
            "metadata": {
                "language": "python",
                "azdata_cell_guid": "9034cb3b-a719-4185-a55d-722ba9894e23"
            },
            "outputs": [
                {
                    "name": "stdout",
                    "text": " * Serving Flask app '__main__'\r\n",
                    "output_type": "stream"
                },
                {
                    "name": "stdout",
                    "text": " * Debug mode: on\r\n",
                    "output_type": "stream"
                }
            ],
            "execution_count": 6
        }
    ]
}