{
    "metadata": {
        "kernelspec": {
            "name": "python3",
            "display_name": "Python 3",
            "language": "python"
        },
        "language_info": {
            "name": "python",
            "version": "3.8.10",
            "mimetype": "text/x-python",
            "codemirror_mode": {
                "name": "ipython",
                "version": 3
            },
            "pygments_lexer": "ipython3",
            "nbconvert_exporter": "python",
            "file_extension": ".py"
        }
    },
    "nbformat_minor": 2,
    "nbformat": 4,
    "cells": [
        {
            "cell_type": "markdown",
            "source": [
                "# **Demo: Metrics and Methods for Model Performance Evaluation**"
            ],
            "metadata": {
                "azdata_cell_guid": "4c31b4a6-2549-45b0-9890-81b544aa7672"
            },
            "attachments": {}
        },
        {
            "cell_type": "markdown",
            "source": [
                "## **Step 1: Load the Dataset**"
            ],
            "metadata": {
                "azdata_cell_guid": "618f8690-7672-4d20-945b-b6a61b7ec594"
            },
            "attachments": {}
        },
        {
            "cell_type": "code",
            "source": [
                "from sqlalchemy import create_engine\r\n",
                "import pandas as pd\r\n",
                "import numpy as np\r\n",
                "from statsmodels.tsa.statespace.sarimax import SARIMAX\r\n",
                "from sklearn.model_selection import train_test_split\r\n",
                "from sklearn.preprocessing import MinMaxScaler\r\n",
                "from sklearn.ensemble import RandomForestRegressor\r\n",
                "from sklearn.metrics import mean_squared_error\r\n",
                "from sklearn.metrics import mean_squared_log_error\r\n",
                "from sklearn.metrics import r2_score\r\n",
                "import matplotlib.pyplot as plt\r\n",
                "import warnings\r\n",
                "warnings.filterwarnings(\"ignore\")\r\n",
                "\r\n",
                "# Connection string components\r\n",
                "server = 'DESKTOP'        # Server name\r\n",
                "database = 'Transactions' # Database name\r\n",
                "driver= 'SQL Server'                   \r\n",
                "\r\n",
                "# SQLAlchemy connection string\r\n",
                "connection_string = f'mssql+pyodbc://{server}/{database}?driver={driver}&trusted_connection=yes'\r\n",
                "\r\n",
                "# Create the engine\r\n",
                "engine = create_engine(connection_string)\r\n",
                "\r\n",
                "# SQL query\r\n",
                "query = '''\r\n",
                "SELECT transaction_id, customer_id, \r\n",
                "       CAST(date AS DATE) as date, \r\n",
                "       CAST(time AS TIME) as time, \r\n",
                "       product_name, category, quantity, price\r\n",
                "FROM dbo.Transactions\r\n",
                "'''\r\n",
                "\r\n",
                "# Use the engine to connect and execute the query\r\n",
                "df = pd.read_sql_query(query, engine)"
            ],
            "metadata": {
                "azdata_cell_guid": "51ad2830-ce9a-47a4-8b1e-e368d9bcb1c5",
                "language": "python"
            },
            "outputs": [],
            "execution_count": 1
        },
        {
            "cell_type": "markdown",
            "source": [
                "## **Step 2:** **Feature Engineering**"
            ],
            "metadata": {
                "azdata_cell_guid": "cdcdb10e-42c4-46b8-aa5d-080d9e517fe8"
            },
            "attachments": {}
        },
        {
            "cell_type": "code",
            "source": [
                "df['date'] = pd.to_datetime(df['date'])\r\n",
                "df['day_of_week'] = df['date'].dt.dayofweek\r\n",
                "df['day_of_month'] = df['date'].dt.day\r\n",
                "features = ['day_of_week', 'day_of_month']"
            ],
            "metadata": {
                "azdata_cell_guid": "03a55e3d-3493-4696-bebe-8b15fcce64a2",
                "language": "python",
                "tags": []
            },
            "outputs": [],
            "execution_count": 2
        },
        {
            "cell_type": "markdown",
            "source": [
                "## **Step 3: Split Data**"
            ],
            "metadata": {
                "azdata_cell_guid": "c105e537-b9be-4cb7-b999-f24a0bc8822e"
            },
            "attachments": {}
        },
        {
            "cell_type": "code",
            "source": [
                "# Target variable\r\n",
                "y = df['price']\r\n",
                "\r\n",
                "# Splitting the dataset into training and test sets\r\n",
                "X_train, X_test, y_train, y_test = train_test_split(df[features], y, test_size=0.2, random_state=44)"
            ],
            "metadata": {
                "azdata_cell_guid": "46227086-af77-4603-b80a-ebc9b13b6c22",
                "language": "python",
                "tags": []
            },
            "outputs": [],
            "execution_count": 3
        },
        {
            "cell_type": "markdown",
            "source": [
                "## **Step 4:** **Scaling Features**"
            ],
            "metadata": {
                "language": "python",
                "azdata_cell_guid": "93038a96-c9cb-4cd0-a81c-444b38cac8df"
            },
            "attachments": {}
        },
        {
            "cell_type": "code",
            "source": [
                "scaler = MinMaxScaler()\r\n",
                "X_train_scaled = scaler.fit_transform(X_train)\r\n",
                "X_test_scaled = scaler.transform(X_test)"
            ],
            "metadata": {
                "language": "python",
                "azdata_cell_guid": "12013dfa-9a23-4e73-9ba2-f616fcec7e0a",
                "tags": []
            },
            "outputs": [],
            "execution_count": 4
        },
        {
            "cell_type": "markdown",
            "source": [
                "## **Step 5:** **Initialize the model**"
            ],
            "metadata": {
                "language": "python",
                "azdata_cell_guid": "02dfeeb8-0c79-4129-baad-1a9a78ec84e8"
            },
            "attachments": {}
        },
        {
            "cell_type": "code",
            "source": [
                "model = RandomForestRegressor(n_estimators=100, random_state=44)"
            ],
            "metadata": {
                "language": "python",
                "azdata_cell_guid": "83b0eb4f-686e-40ef-b164-30f9231b6c57",
                "tags": []
            },
            "outputs": [],
            "execution_count": 5
        },
        {
            "cell_type": "markdown",
            "source": [
                "## **Step 6:** **Train the Model**"
            ],
            "metadata": {
                "language": "python",
                "azdata_cell_guid": "d9310d37-c572-42a1-9efd-73f9e7cad91c"
            },
            "attachments": {}
        },
        {
            "cell_type": "code",
            "source": [
                "model.fit(X_train_scaled, y_train)"
            ],
            "metadata": {
                "language": "python",
                "azdata_cell_guid": "14845edc-e1d0-47e0-97b6-1a0899ee52c4",
                "tags": []
            },
            "outputs": [
                {
                    "output_type": "execute_result",
                    "execution_count": 6,
                    "data": {
                        "text/plain": "RandomForestRegressor(random_state=44)",
                        "text/html": "<style>#sk-container-id-1 {color: black;}#sk-container-id-1 pre{padding: 0;}#sk-container-id-1 div.sk-toggleable {background-color: white;}#sk-container-id-1 label.sk-toggleable__label {cursor: pointer;display: block;width: 100%;margin-bottom: 0;padding: 0.3em;box-sizing: border-box;text-align: center;}#sk-container-id-1 label.sk-toggleable__label-arrow:before {content: \"▸\";float: left;margin-right: 0.25em;color: #696969;}#sk-container-id-1 label.sk-toggleable__label-arrow:hover:before {color: black;}#sk-container-id-1 div.sk-estimator:hover label.sk-toggleable__label-arrow:before {color: black;}#sk-container-id-1 div.sk-toggleable__content {max-height: 0;max-width: 0;overflow: hidden;text-align: left;background-color: #f0f8ff;}#sk-container-id-1 div.sk-toggleable__content pre {margin: 0.2em;color: black;border-radius: 0.25em;background-color: #f0f8ff;}#sk-container-id-1 input.sk-toggleable__control:checked~div.sk-toggleable__content {max-height: 200px;max-width: 100%;overflow: auto;}#sk-container-id-1 input.sk-toggleable__control:checked~label.sk-toggleable__label-arrow:before {content: \"▾\";}#sk-container-id-1 div.sk-estimator input.sk-toggleable__control:checked~label.sk-toggleable__label {background-color: #d4ebff;}#sk-container-id-1 div.sk-label input.sk-toggleable__control:checked~label.sk-toggleable__label {background-color: #d4ebff;}#sk-container-id-1 input.sk-hidden--visually {border: 0;clip: rect(1px 1px 1px 1px);clip: rect(1px, 1px, 1px, 1px);height: 1px;margin: -1px;overflow: hidden;padding: 0;position: absolute;width: 1px;}#sk-container-id-1 div.sk-estimator {font-family: monospace;background-color: #f0f8ff;border: 1px dotted black;border-radius: 0.25em;box-sizing: border-box;margin-bottom: 0.5em;}#sk-container-id-1 div.sk-estimator:hover {background-color: #d4ebff;}#sk-container-id-1 div.sk-parallel-item::after {content: \"\";width: 100%;border-bottom: 1px solid gray;flex-grow: 1;}#sk-container-id-1 div.sk-label:hover label.sk-toggleable__label {background-color: #d4ebff;}#sk-container-id-1 div.sk-serial::before {content: \"\";position: absolute;border-left: 1px solid gray;box-sizing: border-box;top: 0;bottom: 0;left: 50%;z-index: 0;}#sk-container-id-1 div.sk-serial {display: flex;flex-direction: column;align-items: center;background-color: white;padding-right: 0.2em;padding-left: 0.2em;position: relative;}#sk-container-id-1 div.sk-item {position: relative;z-index: 1;}#sk-container-id-1 div.sk-parallel {display: flex;align-items: stretch;justify-content: center;background-color: white;position: relative;}#sk-container-id-1 div.sk-item::before, #sk-container-id-1 div.sk-parallel-item::before {content: \"\";position: absolute;border-left: 1px solid gray;box-sizing: border-box;top: 0;bottom: 0;left: 50%;z-index: -1;}#sk-container-id-1 div.sk-parallel-item {display: flex;flex-direction: column;z-index: 1;position: relative;background-color: white;}#sk-container-id-1 div.sk-parallel-item:first-child::after {align-self: flex-end;width: 50%;}#sk-container-id-1 div.sk-parallel-item:last-child::after {align-self: flex-start;width: 50%;}#sk-container-id-1 div.sk-parallel-item:only-child::after {width: 0;}#sk-container-id-1 div.sk-dashed-wrapped {border: 1px dashed gray;margin: 0 0.4em 0.5em 0.4em;box-sizing: border-box;padding-bottom: 0.4em;background-color: white;}#sk-container-id-1 div.sk-label label {font-family: monospace;font-weight: bold;display: inline-block;line-height: 1.2em;}#sk-container-id-1 div.sk-label-container {text-align: center;}#sk-container-id-1 div.sk-container {/* jupyter's `normalize.less` sets `[hidden] { display: none; }` but bootstrap.min.css set `[hidden] { display: none !important; }` so we also need the `!important` here to be able to override the default hidden behavior on the sphinx rendered scikit-learn.org. See: https://github.com/scikit-learn/scikit-learn/issues/21755 */display: inline-block !important;position: relative;}#sk-container-id-1 div.sk-text-repr-fallback {display: none;}</style><div id=\"sk-container-id-1\" class=\"sk-top-container\"><div class=\"sk-text-repr-fallback\"><pre>RandomForestRegressor(random_state=44)</pre><b>In a Jupyter environment, please rerun this cell to show the HTML representation or trust the notebook. <br />On GitHub, the HTML representation is unable to render, please try loading this page with nbviewer.org.</b></div><div class=\"sk-container\" hidden><div class=\"sk-item\"><div class=\"sk-estimator sk-toggleable\"><input class=\"sk-toggleable__control sk-hidden--visually\" id=\"sk-estimator-id-1\" type=\"checkbox\" checked><label for=\"sk-estimator-id-1\" class=\"sk-toggleable__label sk-toggleable__label-arrow\">RandomForestRegressor</label><div class=\"sk-toggleable__content\"><pre>RandomForestRegressor(random_state=44)</pre></div></div></div></div></div>"
                    },
                    "metadata": {}
                }
            ],
            "execution_count": 6
        },
        {
            "cell_type": "markdown",
            "source": [
                "## **Step 7:** **Make predictions**"
            ],
            "metadata": {
                "language": "python",
                "azdata_cell_guid": "986db1fd-bff1-4c6d-9bb4-0a5dda1c64d9"
            },
            "attachments": {}
        },
        {
            "cell_type": "code",
            "source": [
                "predictions = model.predict(X_test_scaled)"
            ],
            "metadata": {
                "language": "python",
                "azdata_cell_guid": "d9158954-0235-4396-a4d2-2f51f93c74e3",
                "tags": []
            },
            "outputs": [],
            "execution_count": 7
        },
        {
            "cell_type": "markdown",
            "source": [
                "## **Root Mean Squared Error (RMSE)**"
            ],
            "metadata": {
                "azdata_cell_guid": "1070fd95-b186-49b7-b754-1372a45271e3"
            },
            "attachments": {}
        },
        {
            "cell_type": "code",
            "source": [
                "rmse = np.sqrt(mean_squared_error(y_test, predictions))\r\n",
                "print(f\"Root Mean Squared Error: {rmse}\")"
            ],
            "metadata": {
                "azdata_cell_guid": "2351d8dd-e449-4fa2-8c7c-7ddde91e0c03",
                "language": "python",
                "tags": []
            },
            "outputs": [
                {
                    "output_type": "stream",
                    "name": "stdout",
                    "text": "Root Mean Squared Error: 289.26133209880277\n"
                }
            ],
            "execution_count": 8
        },
        {
            "cell_type": "markdown",
            "source": [
                "<span style=\"color: rgb(13, 13, 13); font-family: Söhne, ui-sans-serif, system-ui, -apple-system, &quot;Segoe UI&quot;, Roboto, Ubuntu, Cantarell, &quot;Noto Sans&quot;, sans-serif, &quot;Helvetica Neue&quot;, Arial, &quot;Apple Color Emoji&quot;, &quot;Segoe UI Emoji&quot;, &quot;Segoe UI Symbol&quot;, &quot;Noto Color Emoji&quot;; font-size: 16px; white-space-collapse: preserve; background-color: rgb(255, 255, 255);\">Our model's average predictions are about <b>289.26</b> units from the actual sales price. Considering the scale of our prices, this could mean our model has a relatively <b>wide margin of error</b> in predicting sales prices.</span>"
            ],
            "metadata": {
                "language": "python",
                "azdata_cell_guid": "e83a5120-1ad0-4636-ae8b-81e4cfbe2b5e"
            },
            "attachments": {}
        },
        {
            "cell_type": "markdown",
            "source": [
                "## **Mean Absolute Percentage Error (MAPE)**"
            ],
            "metadata": {
                "language": "python",
                "azdata_cell_guid": "9b79e9e5-5dce-4822-805c-d953e3ab5266"
            },
            "attachments": {}
        },
        {
            "cell_type": "code",
            "source": [
                "def mean_absolute_percentage_error(y_true, y_pred): \r\n",
                "    y_true, y_pred = np.array(y_true), np.array(y_pred)\r\n",
                "    return np.mean(np.abs((y_true - y_pred) / y_true)) * 100\r\n",
                "\r\n",
                "mape = mean_absolute_percentage_error(y_test, predictions)\r\n",
                "print(f\"Mean Absolute Percentage Error: {mape}%\")"
            ],
            "metadata": {
                "language": "python",
                "azdata_cell_guid": "a702aba7-1a90-4b12-9659-9129cff5945d"
            },
            "outputs": [
                {
                    "output_type": "stream",
                    "name": "stdout",
                    "text": "Mean Absolute Percentage Error: 269.741061359782%\n"
                }
            ],
            "execution_count": 9
        },
        {
            "cell_type": "markdown",
            "source": [
                "<span style=\"color: rgb(13, 13, 13); font-family: Söhne, ui-sans-serif, system-ui, -apple-system, &quot;Segoe UI&quot;, Roboto, Ubuntu, Cantarell, &quot;Noto Sans&quot;, sans-serif, &quot;Helvetica Neue&quot;, Arial, &quot;Apple Color Emoji&quot;, &quot;Segoe UI Emoji&quot;, &quot;Segoe UI Symbol&quot;, &quot;Noto Color Emoji&quot;; font-size: 16px; white-space-collapse: preserve; background-color: rgb(255, 255, 255);\">On average, our model's predictions are off by about <b>269.74%</b> from the actual value. It indicates a significant discrepancy between our model's predictions and sales prices. This high error rate might imply that the <b>model struggles significantly</b> to capture the dynamics of your data.</span>"
            ],
            "metadata": {
                "language": "python",
                "azdata_cell_guid": "031d341f-a687-4516-939f-8fc81b15f903"
            },
            "attachments": {}
        },
        {
            "cell_type": "markdown",
            "source": [
                "## **R-squared (Coefficient of Determination)**"
            ],
            "metadata": {
                "language": "python",
                "azdata_cell_guid": "79911ec0-b3bb-427a-a3df-4008e10524d0"
            },
            "attachments": {}
        },
        {
            "cell_type": "code",
            "source": [
                "r2 = r2_score(y_test, predictions)\r\n",
                "print(f\"R-squared: {r2}\")"
            ],
            "metadata": {
                "language": "python",
                "azdata_cell_guid": "e7f255f7-a53a-45e1-8ddf-6b4dd25ee1db"
            },
            "outputs": [
                {
                    "output_type": "stream",
                    "name": "stdout",
                    "text": "R-squared: -0.2017020297612504\n"
                }
            ],
            "execution_count": 10
        },
        {
            "cell_type": "markdown",
            "source": [
                "<span style=\"background-color: rgb(255, 255, 255);\"><font color=\"#0d0d0d\" face=\"Söhne, ui-sans-serif, system-ui, -apple-system, Segoe UI, Roboto, Ubuntu, Cantarell, Noto Sans, sans-serif, Helvetica Neue, Arial, Apple Color Emoji, Segoe UI Emoji, Segoe UI Symbol, Noto Color Emoji\"><span style=\"font-size: 16px; white-space-collapse: preserve;\">An R-squared value less than </span></font><b style=\"color: rgb(13, 13, 13); font-family: Söhne, ui-sans-serif, system-ui, -apple-system, &quot;Segoe UI&quot;, Roboto, Ubuntu, Cantarell, &quot;Noto Sans&quot;, sans-serif, &quot;Helvetica Neue&quot;, Arial, &quot;Apple Color Emoji&quot;, &quot;Segoe UI Emoji&quot;, &quot;Segoe UI Symbol&quot;, &quot;Noto Color Emoji&quot;; font-size: 16px; white-space-collapse: preserve;\">0</b><font color=\"#0d0d0d\" face=\"Söhne, ui-sans-serif, system-ui, -apple-system, Segoe UI, Roboto, Ubuntu, Cantarell, Noto Sans, sans-serif, Helvetica Neue, Arial, Apple Color Emoji, Segoe UI Emoji, Segoe UI Symbol, Noto Color Emoji\"><span style=\"font-size: 16px; white-space-collapse: preserve;\"> indicates that our model performs worse than a simple horizontal line representing the average of the data. In other words, using the model to make predictions is less accurate than using the mean sales price to predict all transactions. This suggests that the model <b>is not effectively capturing</b> the underlying trend or pattern in the data.</span></font></span>"
            ],
            "metadata": {
                "language": "python",
                "azdata_cell_guid": "d8c859f8-7907-4f8e-830b-e34f682365d1"
            },
            "attachments": {}
        },
        {
            "cell_type": "markdown",
            "source": [
                "## **Adjusted R-squared**"
            ],
            "metadata": {
                "language": "python",
                "azdata_cell_guid": "8f27c01a-abf5-4443-a290-a0d1f66b3ab8"
            },
            "attachments": {}
        },
        {
            "cell_type": "code",
            "source": [
                "def adjusted_r2(r_square, labels, features):\r\n",
                "    adj_r_square = 1 - ((1-r_square) * (len(labels)-1))/(len(labels)-features-1)\r\n",
                "    return adj_r_square\r\n",
                "\r\n",
                "adjusted_r2_value = adjusted_r2(r2, y_test, len(features))\r\n",
                "print(f\"Adjusted R-squared: {adjusted_r2_value}\")"
            ],
            "metadata": {
                "language": "python",
                "azdata_cell_guid": "d5b1769b-da4c-4eec-84cf-6e06deb19a43"
            },
            "outputs": [
                {
                    "output_type": "stream",
                    "name": "stdout",
                    "text": "Adjusted R-squared: -0.3430787391449268\n"
                }
            ],
            "execution_count": 11
        },
        {
            "cell_type": "markdown",
            "source": [
                "<span style=\"color: rgb(13, 13, 13); font-family: Söhne, ui-sans-serif, system-ui, -apple-system, &quot;Segoe UI&quot;, Roboto, Ubuntu, Cantarell, &quot;Noto Sans&quot;, sans-serif, &quot;Helvetica Neue&quot;, Arial, &quot;Apple Color Emoji&quot;, &quot;Segoe UI Emoji&quot;, &quot;Segoe UI Symbol&quot;, &quot;Noto Color Emoji&quot;; font-size: 16px; white-space-collapse: preserve; background-color: rgb(255, 255, 255);\">This value, even lower than the <b>R-squared</b>, adjusts for the number of predictors in the model and indicates that adding more variables (predictors) to our model doesn't necessarily improve its performance. In fact, it might be introducing noise or irrelevant information, making the <b>model's predictions less reliable.</b></span>"
            ],
            "metadata": {
                "language": "python",
                "azdata_cell_guid": "dc928f3e-8290-4b13-9a72-8f43746cef49"
            },
            "attachments": {}
        },
        {
            "cell_type": "markdown",
            "source": [
                "## **Mean Squared Logarithmic Error (MSLE)**"
            ],
            "metadata": {
                "language": "python",
                "azdata_cell_guid": "04fdcadf-c677-45dc-b546-6b5debd5a584"
            },
            "attachments": {}
        },
        {
            "cell_type": "code",
            "source": [
                "msle = mean_squared_log_error(y_test, predictions)\r\n",
                "print(f\"Mean Squared Logarithmic Error: {msle}\")"
            ],
            "metadata": {
                "language": "python",
                "azdata_cell_guid": "929f7991-3bf4-40bc-98e2-f1b5355dde09"
            },
            "outputs": [
                {
                    "output_type": "stream",
                    "name": "stdout",
                    "text": "Mean Squared Logarithmic Error: 2.4131792936203644\n"
                }
            ],
            "execution_count": 12
        },
        {
            "cell_type": "markdown",
            "source": [
                "<span style=\"background-color: rgb(255, 255, 255);\"><font color=\"#0d0d0d\" face=\"Söhne, ui-sans-serif, system-ui, -apple-system, Segoe UI, Roboto, Ubuntu, Cantarell, Noto Sans, sans-serif, Helvetica Neue, Arial, Apple Color Emoji, Segoe UI Emoji, Segoe UI Symbol, Noto Color Emoji\"><span style=\"font-size: 16px; white-space-collapse: preserve;\">The model has difficulty making accurate predictions, especially since it penalizes underestimates more than overestimates. A <b>high MSLE</b> value implies that the model may be significantly underestimating the actual sales prices.</span></font></span>"
            ],
            "metadata": {
                "language": "python",
                "azdata_cell_guid": "72ce1b14-7547-4049-8d79-08893d9394ea"
            },
            "attachments": {}
        }
    ]
}