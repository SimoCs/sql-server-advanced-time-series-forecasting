{
    "metadata": {
        "kernelspec": {
            "name": "python3",
            "display_name": "Python 3",
            "language": "python"
        },
        "language_info": {
            "name": "python",
            "version": "3.8.10",
            "mimetype": "text/x-python",
            "codemirror_mode": {
                "name": "ipython",
                "version": 3
            },
            "pygments_lexer": "ipython3",
            "nbconvert_exporter": "python",
            "file_extension": ".py"
        }
    },
    "nbformat_minor": 2,
    "nbformat": 4,
    "cells": [
        {
            "cell_type": "markdown",
            "source": [
                "# **Demo: Techniques for Constructing Accurate Forecasting Models**"
            ],
            "metadata": {
                "azdata_cell_guid": "4c31b4a6-2549-45b0-9890-81b544aa7672"
            },
            "attachments": {}
        },
        {
            "cell_type": "markdown",
            "source": [
                "## **Step 1: Load the Dataset**"
            ],
            "metadata": {
                "azdata_cell_guid": "618f8690-7672-4d20-945b-b6a61b7ec594"
            },
            "attachments": {}
        },
        {
            "cell_type": "code",
            "source": [
                "from sqlalchemy import create_engine\r\n",
                "import pandas as pd\r\n",
                "import numpy as np\r\n",
                "from statsmodels.tsa.statespace.sarimax import SARIMAX\r\n",
                "import matplotlib.pyplot as plt\r\n",
                "from sklearn.model_selection import train_test_split\r\n",
                "from sklearn.linear_model import Ridge\r\n",
                "from sklearn.ensemble import RandomForestRegressor\r\n",
                "from sklearn.metrics import mean_absolute_error, mean_squared_error, r2_score\r\n",
                "from sklearn.preprocessing import OneHotEncoder, PolynomialFeatures\r\n",
                "from sklearn.compose import ColumnTransformer\r\n",
                "from sklearn.pipeline import Pipeline\r\n",
                "from sklearn.model_selection import GridSearchCV\r\n",
                "import warnings\r\n",
                "warnings.filterwarnings(\"ignore\")\r\n",
                "\r\n",
                "# Connection string components\r\n",
                "server = 'DESKTOP'                 # Server name\r\n",
                "database = 'Transactions'          # Database name\r\n",
                "driver= 'SQL Server'                   \r\n",
                "\r\n",
                "# SQLAlchemy connection string\r\n",
                "connection_string = f'mssql+pyodbc://{server}/{database}?driver={driver}&trusted_connection=yes'\r\n",
                "\r\n",
                "# Create the engine\r\n",
                "engine = create_engine(connection_string)\r\n",
                "\r\n",
                "query = '''\r\n",
                "SELECT transaction_id, customer_id, \r\n",
                "       CAST(date AS DATE) as date, \r\n",
                "       CAST(time AS TIME) as time, \r\n",
                "       product_name, category, quantity, price\r\n",
                "FROM dbo.Transactions\r\n",
                "'''\r\n",
                "\r\n",
                "# Use the engine to connect and execute the query\r\n",
                "df = pd.read_sql_query(query, engine)"
            ],
            "metadata": {
                "azdata_cell_guid": "2091365a-8313-4658-80b5-6639b23296fb",
                "language": "python"
            },
            "outputs": [],
            "execution_count": 3
        },
        {
            "cell_type": "markdown",
            "source": [
                "## **Step 2: Feature Engineering**"
            ],
            "metadata": {
                "azdata_cell_guid": "97b6eaa9-8322-4258-9aca-d7e0e5e69936"
            },
            "attachments": {}
        },
        {
            "cell_type": "code",
            "source": [
                "df['datetime'] = pd.to_datetime(df['date'] + ' ' + df['time'])\r\n",
                "df['day_of_week'] = df['datetime'].dt.dayofweek\r\n",
                "df['hour'] = df['datetime'].dt.hour\r\n",
                "df['sin_hour'] = np.sin(2 * np.pi * df['hour']/24.0)\r\n",
                "df['cos_hour'] = np.cos(2 * np.pi * df['hour']/24.0)\r\n",
                "\r\n",
                "features = ['customer_id', 'product_name', 'category', 'quantity', 'day_of_week', 'sin_hour', 'cos_hour']\r\n",
                "X = df[features]\r\n",
                "y = df['price']\r\n",
                "\r\n",
                "# Adding polynomial features for quantity and encoding cyclical hour as sine and cosine\r\n",
                "categorical_features = ['customer_id', 'product_name', 'category', 'day_of_week']\r\n",
                "numerical_features = ['quantity', 'sin_hour', 'cos_hour']"
            ],
            "metadata": {
                "azdata_cell_guid": "c319941b-6bd2-4cd1-be04-36e604a0e0cd",
                "language": "python"
            },
            "outputs": [],
            "execution_count": 4
        },
        {
            "cell_type": "markdown",
            "source": [
                "## **Step 3:** **Feature Preprocessing**"
            ],
            "metadata": {
                "language": "python",
                "azdata_cell_guid": "25cea9a5-f385-456f-916e-a5efe4b6297f"
            },
            "attachments": {}
        },
        {
            "cell_type": "code",
            "source": [
                "preprocessor = ColumnTransformer(transformers=[\r\n",
                "    ('cat', OneHotEncoder(handle_unknown='ignore'), categorical_features),\r\n",
                "    ('num', PolynomialFeatures(degree=2, include_bias=False), numerical_features)\r\n",
                "])"
            ],
            "metadata": {
                "language": "python",
                "azdata_cell_guid": "d2e42303-a715-4ab8-bfb7-77376b49cfa6"
            },
            "outputs": [],
            "execution_count": 5
        },
        {
            "cell_type": "markdown",
            "source": [
                "## **Step 4:** **Splitting Data**"
            ],
            "metadata": {
                "language": "python",
                "azdata_cell_guid": "00c0840b-b274-4da9-9b54-767ba5b39ce7"
            },
            "attachments": {}
        },
        {
            "cell_type": "code",
            "source": [
                "X_train, X_test, y_train, y_test = train_test_split(X, y, test_size=0.2, random_state=44)"
            ],
            "metadata": {
                "language": "python",
                "azdata_cell_guid": "d69f4851-787d-4d9a-951c-9831fe3b2d76"
            },
            "outputs": [],
            "execution_count": 6
        },
        {
            "cell_type": "markdown",
            "source": [
                "## **Step 5:** **Initialize Model**"
            ],
            "metadata": {
                "language": "python",
                "azdata_cell_guid": "0e7ded84-d72d-4cff-8b82-159d71fe3ec2"
            },
            "attachments": {}
        },
        {
            "cell_type": "code",
            "source": [
                "model = RandomForestRegressor(n_estimators=100, random_state=44)"
            ],
            "metadata": {
                "language": "python",
                "azdata_cell_guid": "3b4f8dc2-f8a9-4c26-9b68-2ee26584cbca"
            },
            "outputs": [],
            "execution_count": 7
        },
        {
            "cell_type": "markdown",
            "source": [
                "## **Step 6:** **Pipeline Creation**"
            ],
            "metadata": {
                "language": "python",
                "azdata_cell_guid": "3f325ac8-eb19-4be1-891c-15563dab629f"
            },
            "attachments": {}
        },
        {
            "cell_type": "code",
            "source": [
                "model_pipeline = Pipeline(steps=[('preprocessor', preprocessor),\r\n",
                "                                 ('regressor', model)])"
            ],
            "metadata": {
                "language": "python",
                "azdata_cell_guid": "95b08fe5-28f2-40a1-8eb7-3d5feec8f3e7",
                "tags": []
            },
            "outputs": [],
            "execution_count": 8
        },
        {
            "cell_type": "markdown",
            "source": [
                "## **Step 7:** **Hyperparameter Tuning**"
            ],
            "metadata": {
                "language": "python",
                "azdata_cell_guid": "7d635fdf-64c5-40ef-bd1e-e3f59497980b"
            },
            "attachments": {}
        },
        {
            "cell_type": "code",
            "source": [
                "param_grid = {\r\n",
                "    'regressor__n_estimators': [100, 200],\r\n",
                "    'regressor__max_depth': [10, 20, None]\r\n",
                "}\r\n",
                "\r\n",
                "grid_search = GridSearchCV(model_pipeline, param_grid, cv=3, scoring='neg_mean_squared_error')\r\n",
                "grid_search.fit(X_train, y_train)\r\n",
                "\r\n",
                "print(\"Best parameters:\", grid_search.best_params_)"
            ],
            "metadata": {
                "language": "python",
                "azdata_cell_guid": "1d4a7896-9d80-4144-aa77-1cf44612b6ba"
            },
            "outputs": [
                {
                    "output_type": "stream",
                    "name": "stdout",
                    "text": "Best parameters: {'regressor__max_depth': 10, 'regressor__n_estimators': 200}\n"
                }
            ],
            "execution_count": 9
        },
        {
            "cell_type": "markdown",
            "source": [
                "## **Step 8:** **Model Prediction**"
            ],
            "metadata": {
                "language": "python",
                "azdata_cell_guid": "8c8eeabb-0cfa-4e38-873d-4a7f956646c2"
            },
            "attachments": {}
        },
        {
            "cell_type": "code",
            "source": [
                "# Predicting on the test set with the best model\r\n",
                "best_model = grid_search.best_estimator_\r\n",
                "predictions = best_model.predict(X_test)"
            ],
            "metadata": {
                "language": "python",
                "azdata_cell_guid": "ffad19f3-a196-41cf-aed4-902d300e504b",
                "tags": []
            },
            "outputs": [],
            "execution_count": 10
        },
        {
            "cell_type": "markdown",
            "source": [
                "## **Step 9:** **Evaluation**"
            ],
            "metadata": {
                "language": "python",
                "azdata_cell_guid": "c2d8569d-2765-4396-aef5-54b0f2575415"
            },
            "attachments": {}
        },
        {
            "cell_type": "code",
            "source": [
                "mae = mean_absolute_error(y_test, predictions)\r\n",
                "mse = mean_squared_error(y_test, predictions)\r\n",
                "r2 = r2_score(y_test, predictions)\r\n",
                "\r\n",
                "print(f\"Mean Absolute Error: {mae}\")\r\n",
                "print(f\"Mean Squared Error: {mse}\")\r\n",
                "print(f\"R^2 Score: {r2}\")"
            ],
            "metadata": {
                "azdata_cell_guid": "5bf61fcc-c83f-4d24-92ad-4bb7a8ef684c",
                "language": "python"
            },
            "outputs": [
                {
                    "output_type": "stream",
                    "name": "stdout",
                    "text": "Mean Absolute Error: 0.6605000020861626\nMean Squared Error: 4.517302517137527\nR^2 Score: 0.9999351223356407\n"
                }
            ],
            "execution_count": 11
        }
    ]
}